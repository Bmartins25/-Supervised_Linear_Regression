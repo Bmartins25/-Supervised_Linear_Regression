{
  "cells": [
    {
      "cell_type": "markdown",
      "metadata": {
        "id": "view-in-github",
        "colab_type": "text"
      },
      "source": [
        "<a href=\"https://colab.research.google.com/github/Bmartins25/Supervisionado_Linear_Regression/blob/main/Matriz_Correlacao.ipynb\" target=\"_parent\"><img src=\"https://colab.research.google.com/assets/colab-badge.svg\" alt=\"Open In Colab\"/></a>"
      ]
    },
    {
      "cell_type": "code",
      "execution_count": null,
      "metadata": {
        "id": "ri_6s92iHPnb"
      },
      "outputs": [],
      "source": [
        "import pandas as pd\n",
        "import numpy as np\n",
        "import seaborn as sns\n",
        "import matplotlib.pyplot as plt"
      ]
    },
    {
      "cell_type": "code",
      "execution_count": null,
      "metadata": {
        "id": "6Ptz-uREHPnd",
        "outputId": "cbb5cf0b-26b9-4d19-b92c-de6392b72c98"
      },
      "outputs": [
        {
          "name": "stderr",
          "output_type": "stream",
          "text": [
            "C:\\Users\\139520\\AppData\\Local\\Temp\\ipykernel_14512\\1358632521.py:16: FutureWarning: Series.dt.weekofyear and Series.dt.week have been deprecated. Please use Series.dt.isocalendar().week instead.\n",
            "  df['max_da_semana'] = df['Time'].dt.week\n"
          ]
        },
        {
          "data": {
            "text/html": [
              "<div>\n",
              "<style scoped>\n",
              "    .dataframe tbody tr th:only-of-type {\n",
              "        vertical-align: middle;\n",
              "    }\n",
              "\n",
              "    .dataframe tbody tr th {\n",
              "        vertical-align: top;\n",
              "    }\n",
              "\n",
              "    .dataframe thead th {\n",
              "        text-align: right;\n",
              "    }\n",
              "</style>\n",
              "<table border=\"1\" class=\"dataframe\">\n",
              "  <thead>\n",
              "    <tr style=\"text-align: right;\">\n",
              "      <th></th>\n",
              "      <th>Time</th>\n",
              "      <th>Memory utilization</th>\n",
              "      <th>data</th>\n",
              "      <th>hora</th>\n",
              "      <th>max_da_semana</th>\n",
              "    </tr>\n",
              "  </thead>\n",
              "  <tbody>\n",
              "    <tr>\n",
              "      <th>0</th>\n",
              "      <td>2023-03-14 16:00:00</td>\n",
              "      <td>62</td>\n",
              "      <td>14</td>\n",
              "      <td>16</td>\n",
              "      <td>11</td>\n",
              "    </tr>\n",
              "    <tr>\n",
              "      <th>1</th>\n",
              "      <td>2023-03-14 17:00:00</td>\n",
              "      <td>63</td>\n",
              "      <td>14</td>\n",
              "      <td>17</td>\n",
              "      <td>11</td>\n",
              "    </tr>\n",
              "    <tr>\n",
              "      <th>2</th>\n",
              "      <td>2023-03-14 18:00:00</td>\n",
              "      <td>64</td>\n",
              "      <td>14</td>\n",
              "      <td>18</td>\n",
              "      <td>11</td>\n",
              "    </tr>\n",
              "    <tr>\n",
              "      <th>3</th>\n",
              "      <td>2023-03-14 19:00:00</td>\n",
              "      <td>65</td>\n",
              "      <td>14</td>\n",
              "      <td>19</td>\n",
              "      <td>11</td>\n",
              "    </tr>\n",
              "    <tr>\n",
              "      <th>4</th>\n",
              "      <td>2023-03-14 20:00:00</td>\n",
              "      <td>66</td>\n",
              "      <td>14</td>\n",
              "      <td>20</td>\n",
              "      <td>11</td>\n",
              "    </tr>\n",
              "  </tbody>\n",
              "</table>\n",
              "</div>"
            ],
            "text/plain": [
              "                 Time  Memory utilization  data  hora  max_da_semana\n",
              "0 2023-03-14 16:00:00                  62    14    16             11\n",
              "1 2023-03-14 17:00:00                  63    14    17             11\n",
              "2 2023-03-14 18:00:00                  64    14    18             11\n",
              "3 2023-03-14 19:00:00                  65    14    19             11\n",
              "4 2023-03-14 20:00:00                  66    14    20             11"
            ]
          },
          "execution_count": 23,
          "metadata": {},
          "output_type": "execute_result"
        }
      ],
      "source": [
        "df = pd.read_csv(r'C:\\Users\\OneDrive\\Área de Trabalho\\Capacity_NCWEB\\Mem_srvncwebprd01.csv')\n",
        "\n",
        "df.Time = pd.to_datetime(df.Time)\n",
        "\n",
        "df['data'] = df['Time'].dt.day\n",
        "df['hora'] = df['Time'].dt.hour\n",
        "#df['minuto'] = df['Time'].dt.minute()\n",
        "\n",
        "#df['dia_semana'] = df['Time'].dt.day_name() #-> #funciona mas da erro de conversão string/float\n",
        "#df['minuto'] = df['Time'].dt.minute\n",
        "#df['segundo'] = df['Time'].dt.second\n",
        "#df['mes'] = df['Time'].dt.month\n",
        "#df['max_ontem'] = df.group_by ([dt.day])\n",
        "#df['max_ultima_hora'] = df.group_by ([agregar base por hora])\n",
        "#df['max_ontem'] = df.group_by ([agregar base por hora])\n",
        "df['max_da_semana'] = df['Time'].dt.week\n",
        "#...\n",
        "#ultima mes\n",
        "#max do dia\n",
        "#max do mes\n",
        "#max do semana\n",
        "\n",
        "\n",
        "df.head()"
      ]
    },
    {
      "cell_type": "code",
      "execution_count": null,
      "metadata": {
        "id": "zhqJnwj9HPnf",
        "outputId": "75f169d1-79d7-4e2a-9afa-28cb501ba154"
      },
      "outputs": [
        {
          "data": {
            "text/html": [
              "<div>\n",
              "<style scoped>\n",
              "    .dataframe tbody tr th:only-of-type {\n",
              "        vertical-align: middle;\n",
              "    }\n",
              "\n",
              "    .dataframe tbody tr th {\n",
              "        vertical-align: top;\n",
              "    }\n",
              "\n",
              "    .dataframe thead th {\n",
              "        text-align: right;\n",
              "    }\n",
              "</style>\n",
              "<table border=\"1\" class=\"dataframe\">\n",
              "  <thead>\n",
              "    <tr style=\"text-align: right;\">\n",
              "      <th></th>\n",
              "      <th>Time</th>\n",
              "      <th>Memoria</th>\n",
              "      <th>data</th>\n",
              "      <th>hora</th>\n",
              "      <th>max_da_semana</th>\n",
              "    </tr>\n",
              "  </thead>\n",
              "  <tbody>\n",
              "    <tr>\n",
              "      <th>0</th>\n",
              "      <td>2023-03-14 16:00:00</td>\n",
              "      <td>62</td>\n",
              "      <td>14</td>\n",
              "      <td>16</td>\n",
              "      <td>11</td>\n",
              "    </tr>\n",
              "    <tr>\n",
              "      <th>1</th>\n",
              "      <td>2023-03-14 17:00:00</td>\n",
              "      <td>63</td>\n",
              "      <td>14</td>\n",
              "      <td>17</td>\n",
              "      <td>11</td>\n",
              "    </tr>\n",
              "    <tr>\n",
              "      <th>2</th>\n",
              "      <td>2023-03-14 18:00:00</td>\n",
              "      <td>64</td>\n",
              "      <td>14</td>\n",
              "      <td>18</td>\n",
              "      <td>11</td>\n",
              "    </tr>\n",
              "    <tr>\n",
              "      <th>3</th>\n",
              "      <td>2023-03-14 19:00:00</td>\n",
              "      <td>65</td>\n",
              "      <td>14</td>\n",
              "      <td>19</td>\n",
              "      <td>11</td>\n",
              "    </tr>\n",
              "    <tr>\n",
              "      <th>4</th>\n",
              "      <td>2023-03-14 20:00:00</td>\n",
              "      <td>66</td>\n",
              "      <td>14</td>\n",
              "      <td>20</td>\n",
              "      <td>11</td>\n",
              "    </tr>\n",
              "  </tbody>\n",
              "</table>\n",
              "</div>"
            ],
            "text/plain": [
              "                 Time  Memoria  data  hora  max_da_semana\n",
              "0 2023-03-14 16:00:00       62    14    16             11\n",
              "1 2023-03-14 17:00:00       63    14    17             11\n",
              "2 2023-03-14 18:00:00       64    14    18             11\n",
              "3 2023-03-14 19:00:00       65    14    19             11\n",
              "4 2023-03-14 20:00:00       66    14    20             11"
            ]
          },
          "execution_count": 24,
          "metadata": {},
          "output_type": "execute_result"
        }
      ],
      "source": [
        "df.rename(columns={'Memory utilization': 'Memoria'}, inplace = True)\n",
        "df.head()"
      ]
    },
    {
      "cell_type": "code",
      "execution_count": null,
      "metadata": {
        "id": "lvNWzqbzHPnf"
      },
      "outputs": [],
      "source": [
        "X = df.drop(['Time','Memoria'], axis=1)\n",
        "y = df['Memoria']"
      ]
    },
    {
      "cell_type": "code",
      "execution_count": null,
      "metadata": {
        "id": "8-Za6rH3HPng",
        "outputId": "b6473df4-e16b-4dc2-b093-74faa7d2583f"
      },
      "outputs": [
        {
          "name": "stderr",
          "output_type": "stream",
          "text": [
            "C:\\Users\\139520\\AppData\\Local\\Temp\\ipykernel_14512\\151574763.py:1: FutureWarning: The default value of numeric_only in DataFrame.corr is deprecated. In a future version, it will default to False. Select only valid columns or specify the value of numeric_only to silence this warning.\n",
            "  correlacao = df.corr()\n"
          ]
        }
      ],
      "source": [
        "correlacao = df.corr()"
      ]
    },
    {
      "cell_type": "code",
      "execution_count": null,
      "metadata": {
        "id": "7vVyoCLbHPng",
        "outputId": "2a93996b-56f9-4b0a-d5ca-89b29be4e9c6"
      },
      "outputs": [
        {
          "data": {
            "image/png": "[encoded data removed]",
            "text/plain": [
              "<Figure size 640x480 with 2 Axes>"
            ]
          },
          "metadata": {},
          "output_type": "display_data"
        }
      ],
      "source": [
        "sns.heatmap(correlacao, annot=True, cmap='coolwarm')\n",
        "plt.title('Mapa de calor de correlação')\n",
        "\n",
        "plt.show()\n",
        "#matriz de correlação\n",
        "#correlação entre as 3 variáveis\n",
        "\n",
        "#Q  uanto mais clara a cor, mais forte é a correlação entre os retornos de cada ativo.\n",
        "#Claramente grande correlação entre consumo de memoria e hora (0.49)"
      ]
    },
    {
      "cell_type": "code",
      "execution_count": null,
      "metadata": {
        "id": "yVVJSFh9HPng"
      },
      "outputs": [],
      "source": [
        "#podemos ver claramente que as colunas minuto e segundo são praticamente descartadas, não sendo importantes para nossa análise de correlação\n",
        "#consumo max da semana tem correlação com variável data"
      ]
    }
  ],
  "metadata": {
    "kernelspec": {
      "display_name": "Python 3",
      "language": "python",
      "name": "python3"
    },
    "language_info": {
      "codemirror_mode": {
        "name": "ipython",
        "version": 3
      },
      "file_extension": ".py",
      "mimetype": "text/x-python",
      "name": "python",
      "nbconvert_exporter": "python",
      "pygments_lexer": "ipython3",
      "version": "3.10.10"
    },
    "orig_nbformat": 4,
    "vscode": {
      "interpreter": {
        "hash": "d6f96c1118f143bbcbd1f6f2c177b70e2edc6b6ff05da5e5973cc4e6be9d5677"
      }
    },
    "colab": {
      "provenance": [],
      "include_colab_link": true
    }
  },
  "nbformat": 4,
  "nbformat_minor": 0
}